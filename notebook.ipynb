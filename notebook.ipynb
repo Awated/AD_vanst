{
 "cells": [
  {
   "cell_type": "code",
   "execution_count": 3,
   "id": "1a7f37bf",
   "metadata": {},
   "outputs": [
    {
     "name": "stderr",
     "output_type": "stream",
     "text": [
      "2025-06-07 02:14:54.705 WARNING streamlit.runtime.scriptrunner_utils.script_run_context: Thread 'MainThread': missing ScriptRunContext! This warning can be ignored when running in bare mode.\n"
     ]
    }
   ],
   "source": [
    "import streamlit as st\n",
    "from streamlit_option_menu import option_menu\n",
    "\n",
    "\n",
    "\n",
    "st.set_page_config(\n",
    "    layout=\"centered\", initial_sidebar_state=\"expanded\"\n",
    ")\n"
   ]
  },
  {
   "cell_type": "code",
   "execution_count": 75,
   "id": "84ee0755",
   "metadata": {},
   "outputs": [],
   "source": [
    "\n",
    "# Nos données utilisateurs doivent respecter ce format\n",
    "lesDonneesDesComptes = {\n",
    "    'usernames': {\n",
    "        'utilisateur': {\n",
    "            'name': 'utilisateur',\n",
    "            'password': 'utilisateurMDP',\n",
    "            'email': 'utilisateur@gmail.com',\n",
    "            'failed_login_attemps': 0,  # Sera géré automatiquement\n",
    "            'logged_in': False,          # Sera géré automatiquement\n",
    "            'role': 'utilisateur'\n",
    "        },\n",
    "        'root': {\n",
    "            'name': 'root',\n",
    "            'password': 'rootMDP',\n",
    "            'email': 'admin@gmail.com',\n",
    "            'failed_login_attemps': 0,  # Sera géré automatiquement\n",
    "            'logged_in': False,          # Sera géré automatiquement\n",
    "            'role': 'administrateur'\n",
    "        }\n",
    "    }\n",
    "}\n"
   ]
  },
  {
   "cell_type": "code",
   "execution_count": 90,
   "id": "a88c2fa4",
   "metadata": {},
   "outputs": [],
   "source": [
    "  def get_user_name():\n",
    "    for i, v in enumerate(lesDonneesDesComptes):\n",
    "        tour_1 = lesDonneesDesComptes['usernames']\n",
    "        for j,name in enumerate(tour_1):\n",
    "            tour_2 = tour_1[name]['name']\n",
    "    return tour_2"
   ]
  },
  {
   "cell_type": "code",
   "execution_count": 92,
   "id": "484e0132",
   "metadata": {},
   "outputs": [
    {
     "data": {
      "text/plain": [
       "'root'"
      ]
     },
     "execution_count": 92,
     "metadata": {},
     "output_type": "execute_result"
    }
   ],
   "source": [
    "get_user_name()"
   ]
  },
  {
   "cell_type": "code",
   "execution_count": 17,
   "id": "9a2f89a1",
   "metadata": {},
   "outputs": [],
   "source": [
    "user_name = lesDonneesDesComptes['usernames']['root']['name']"
   ]
  },
  {
   "cell_type": "code",
   "execution_count": 18,
   "id": "a3c229c4",
   "metadata": {},
   "outputs": [
    {
     "name": "stdout",
     "output_type": "stream",
     "text": [
      "root\n"
     ]
    }
   ],
   "source": [
    "print(user_name)"
   ]
  },
  {
   "cell_type": "code",
   "execution_count": null,
   "id": "20eb1c1f",
   "metadata": {},
   "outputs": [],
   "source": [
    "authenticator.login()\n",
    "\n",
    "def accueil():\n",
    "\n",
    "    if st.session_state[\"authentication_status\"]:\n",
    "        st.title(\"Bienvenu sur le contenu réservé aux utilisateurs connectés\")\n",
    "        # On affiche un menu DANS la barre latérale (sidebar)\n",
    "        with st.sidebar:\n",
    "            # Creation du bouton deconnexion\n",
    "            authenticator.logout(\"Déconnexion\")\n",
    "\n",
    "            st.write('Bienvenue')\n",
    "\n",
    "            selected = option_menu(\n",
    "                menu_title=None,\n",
    "                options=[\"Accueil\", \"Photos\"],\n",
    "                icons=[\"house\", \"image\"],  # facultatif\n",
    "                menu_icon=\"cast\",          # facultatif\n",
    "                default_index=0\n",
    "                )\n",
    "\n",
    "        if selected == \"Accueil\":\n",
    "            st.header(\"***Bienvenue sur ma page citronnée!***\")\n",
    "            st.image(\"https://www.bioceno.be/wp-content/uploads/2019/11/citrons-3.jpg\")\n",
    "        elif selected == \"Photos\":\n",
    "            st.header(\"***Bienvenue sur mon album photo***\")\n",
    "            # Création de 3 colonnes\n",
    "            col1, col2, col3 = st.columns(3)\n",
    "\n",
    "            # Contenu de la première colonne :\n",
    "            with col1:\n",
    "                st.subheader(\"Le chat \")\n",
    "                st.image(\"https://static.streamlit.io/examples/cat.jpg\")\n",
    "\n",
    "            # Contenu de la deuxième colonne :\n",
    "            with col2:\n",
    "                st.subheader(\"Ce chien\")\n",
    "                st.image(\"https://static.streamlit.io/examples/dog.jpg\")\n",
    "\n",
    "            # Contenu de la troisième colonne :\n",
    "            with col3:\n",
    "                st.subheader(\"Chouette!\")\n",
    "                st.image(\"https://static.streamlit.io/examples/owl.jpg\")\n",
    "                # Le bouton de déconnexion\n",
    "\n",
    "    elif st.session_state[\"authentication_status\"] is False:\n",
    "        st.error(\"L'username ou le password est/sont incorrect\")\n",
    "    elif st.session_state[\"authentication_status\"] is None:\n",
    "        st.warning('Les champs username et mot de passe doivent être remplie')\n",
    "\n",
    "\n",
    "accueil()\n",
    "\n",
    "\n",
    "authenticator = Authenticate(\n",
    "    lesDonneesDesComptes,  # Les données des comptes\n",
    "    \"cookie name\",         # Le nom du cookie, un str quelconque\n",
    "    \"cookie key\",          # La clé du cookie, un str quelconque\n",
    "    30,                    # Le nombre de jours avant que le cookie expire\n",
    ")\n"
   ]
  }
 ],
 "metadata": {
  "kernelspec": {
   "display_name": "env_s3",
   "language": "python",
   "name": "python3"
  },
  "language_info": {
   "codemirror_mode": {
    "name": "ipython",
    "version": 3
   },
   "file_extension": ".py",
   "mimetype": "text/x-python",
   "name": "python",
   "nbconvert_exporter": "python",
   "pygments_lexer": "ipython3",
   "version": "3.13.3"
  }
 },
 "nbformat": 4,
 "nbformat_minor": 5
}
